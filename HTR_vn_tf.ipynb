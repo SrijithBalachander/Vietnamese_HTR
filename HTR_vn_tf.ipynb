{
  "nbformat": 4,
  "nbformat_minor": 0,
  "metadata": {
    "colab": {
      "name": "HTR_vn_tf.ipynb",
      "provenance": [],
      "authorship_tag": "ABX9TyORBa1CQn2SweKkFhqv5dzG",
      "include_colab_link": true
    },
    "kernelspec": {
      "name": "python3",
      "display_name": "Python 3"
    },
    "language_info": {
      "name": "python"
    },
    "accelerator": "GPU"
  },
  "cells": [
    {
      "cell_type": "markdown",
      "metadata": {
        "id": "view-in-github",
        "colab_type": "text"
      },
      "source": [
        "<a href=\"https://colab.research.google.com/github/SrijithBalachander/Vietnamese_HTR/blob/main/HTR_vn_tf.ipynb\" target=\"_parent\"><img src=\"https://colab.research.google.com/assets/colab-badge.svg\" alt=\"Open In Colab\"/></a>"
      ]
    },
    {
      "cell_type": "markdown",
      "source": [
        "# Vietnamese HTR"
      ],
      "metadata": {
        "id": "WCGVSPUA-7GW"
      }
    },
    {
      "cell_type": "code",
      "source": [
        "from google.colab import drive\n",
        "drive.mount('/content/drive')"
      ],
      "metadata": {
        "colab": {
          "base_uri": "https://localhost:8080/"
        },
        "id": "kWVP5ZTdq9MM",
        "outputId": "22fb0260-1468-4a13-bb91-14ecb571da9e"
      },
      "execution_count": 2,
      "outputs": [
        {
          "output_type": "stream",
          "name": "stdout",
          "text": [
            "Drive already mounted at /content/drive; to attempt to forcibly remount, call drive.mount(\"/content/drive\", force_remount=True).\n"
          ]
        }
      ]
    },
    {
      "cell_type": "markdown",
      "source": [
        "## Importing from Kaggle\n",
        "\n",
        "Skip if previously done"
      ],
      "metadata": {
        "id": "PSEo4nQuZFCz"
      }
    },
    {
      "cell_type": "code",
      "source": [
        "!pip install kaggle"
      ],
      "metadata": {
        "id": "JjKlCtZlTwS8"
      },
      "execution_count": null,
      "outputs": []
    },
    {
      "cell_type": "code",
      "source": [
        "%cd \"/content/drive/MyDrive/Kaggle\""
      ],
      "metadata": {
        "id": "AMmonHr2T5AL"
      },
      "execution_count": null,
      "outputs": []
    },
    {
      "cell_type": "code",
      "source": [
        "!kaggle datasets download -d bomaich/vietnamese-handwritten-ocr"
      ],
      "metadata": {
        "id": "dsRMJ3IoucGD"
      },
      "execution_count": null,
      "outputs": []
    },
    {
      "cell_type": "code",
      "source": [
        "!mkdir vietnamese_handwritten_ocr\n",
        "!unzip -q vietnamese-handwritten-ocr.zip -d vietnamese_handwritten_ocr/"
      ],
      "metadata": {
        "id": "ra9jigLDuesk"
      },
      "execution_count": null,
      "outputs": []
    },
    {
      "cell_type": "code",
      "source": [
        "!ls vietnamese_handwritten_ocr/"
      ],
      "metadata": {
        "id": "q_wPhR5SuidK"
      },
      "execution_count": null,
      "outputs": []
    },
    {
      "cell_type": "code",
      "source": [
        "%cd /content"
      ],
      "metadata": {
        "id": "VdcN9Fogui2T"
      },
      "execution_count": null,
      "outputs": []
    },
    {
      "cell_type": "markdown",
      "source": [
        "## Importing packages"
      ],
      "metadata": {
        "id": "2JcDJcjXeVfg"
      }
    },
    {
      "cell_type": "code",
      "source": [
        "import tensorflow as tf\n",
        "import numpy as np\n",
        "import pandas as pd\n",
        "import matplotlib.pyplot as plt\n",
        "import csv"
      ],
      "metadata": {
        "id": "TgO52vAitnA_"
      },
      "execution_count": 3,
      "outputs": []
    },
    {
      "cell_type": "code",
      "source": [
        "import os\n",
        "import cv2\n",
        "import re"
      ],
      "metadata": {
        "id": "p46miJo3tnmZ"
      },
      "execution_count": 4,
      "outputs": []
    },
    {
      "cell_type": "code",
      "source": [
        "import string\n",
        "import time\n",
        "\n",
        "from keras.preprocessing.sequence import pad_sequences\n",
        "\n",
        "from keras.layers import Dense, LSTM, Reshape, BatchNormalization, Input, Conv2D, MaxPool2D, Lambda, Bidirectional\n",
        "from keras.models import Model\n",
        "from keras.activations import relu, sigmoid, softmax\n",
        "import keras.backend as K\n",
        "from tensorflow.keras.utils import to_categorical\n",
        "from keras.callbacks import ModelCheckpoint\n",
        "from sklearn.model_selection import GridSearchCV, train_test_split, RepeatedStratifiedKFold, cross_val_score, KFold,StratifiedKFold "
      ],
      "metadata": {
        "id": "fzAbFs_MtpFn"
      },
      "execution_count": 5,
      "outputs": []
    },
    {
      "cell_type": "code",
      "source": [
        "from PIL import Image\n",
        "from google.colab.patches import cv2_imshow\n",
        "import matplotlib.pyplot as plt\n",
        "%matplotlib inline"
      ],
      "metadata": {
        "id": "8J0A6L6GYSqH"
      },
      "execution_count": 6,
      "outputs": []
    },
    {
      "cell_type": "markdown",
      "source": [
        "## Preparing Dataset"
      ],
      "metadata": {
        "id": "EVn8RPiCur_R"
      }
    },
    {
      "cell_type": "code",
      "source": [
        "char_encoding = '0123456789ABCDEFGHIJKLMNOPQRSTUVWXYabcdefghijklmnopqrstuvxyzÀÁÂÔÚÝàáâãèéêìíòóôõùúýĂăĐđĩũƒƠơƯưạẢảẤấẦầẩẫậắằẳẵặẹẻẽếỀềỂểễỆệỉịọỏỐốỒồổỗộớờỞởỡợụỦủứừửữựỳỷỹ'\n",
        "print ('the number of characters:', len(char_encoding))\n",
        "max_len_label = 0\n",
        "\n",
        "def encode_to_labels(txt):\n",
        "    # encoding each output word into digits\n",
        "    dig_lst = []\n",
        "    for index, char in enumerate(txt):\n",
        "        try:\n",
        "            dig_lst.append(char_encoding.index(char))\n",
        "        except:\n",
        "            print(char)\n",
        "        \n",
        "    return dig_lst"
      ],
      "metadata": {
        "colab": {
          "base_uri": "https://localhost:8080/"
        },
        "id": "G1tYSu4VtqvN",
        "outputId": "57a98ebd-244a-409b-ca8d-2c954a19a382"
      },
      "execution_count": 7,
      "outputs": [
        {
          "output_type": "stream",
          "name": "stdout",
          "text": [
            "the number of characters: 147\n"
          ]
        }
      ]
    },
    {
      "cell_type": "code",
      "source": [
        "data_file = \"/content/drive/MyDrive/Kaggle/vietnamese_handwritten_ocr/aug_word_data4.csv\"\n",
        "vn_df = pd.read_csv(data_file)"
      ],
      "metadata": {
        "id": "dSGG5wVNt4ec"
      },
      "execution_count": 8,
      "outputs": []
    },
    {
      "cell_type": "code",
      "source": [
        "print(vn_df.iloc[0][0])\n",
        "img1 = np.array(vn_df.iloc[0][1].split(\" \"), dtype = float)#np.array([float(x) for x in vn_df.iloc[0][1].split(\" \")])\n",
        "img1 = img1.reshape(128, 32)\n",
        "print(np.histogram(img1))\n",
        "plt.hist(img1)\n",
        "plt.show()\n",
        "print((img1.T + -1*np.min(img1))*50)\n",
        "cv2_imshow((img1.T + -1*np.min(img1))*50)\n",
        "print(((img1.T+-1*np.min(img1))/(-1*np.min(img1))))\n",
        "# cv2_imshow(((img1.T+-1*np.min(img1))/(-1*np.min(img1)))*255)\n",
        "cv2_imshow(((img1.T/(-1*np.min(img1)))+1)*255)\n",
        "img1 = (img1.T/(-1*np.min(img1))+1)*255\n",
        "# plt.imshow(np.asarray(pd.to_numeric(vn_df.iloc[0][1])))\n",
        "plt.imshow(img1/255.)\n",
        "# plt.show()\n",
        "plt.colorbar()"
      ],
      "metadata": {
        "colab": {
          "base_uri": "https://localhost:8080/",
          "height": 865
        },
        "id": "gzFO8YwWt7bq",
        "outputId": "e4b61069-ef60-4523-c8ad-892f0ba2763d"
      },
      "execution_count": 9,
      "outputs": [
        {
          "output_type": "stream",
          "name": "stdout",
          "text": [
            "Bản\n",
            "(array([ 190,    0,   45,    0,   13,    0,   21,    0,   24, 3803]), array([-5. , -4.5, -4. , -3.5, -3. , -2.5, -2. , -1.5, -1. , -0.5,  0. ]))\n"
          ]
        },
        {
          "output_type": "display_data",
          "data": {
            "text/plain": [
              "<Figure size 432x288 with 1 Axes>"
            ],
            "image/png": "[encoded data removed]"
          },
          "metadata": {
            "needs_background": "light"
          }
        },
        {
          "output_type": "stream",
          "name": "stdout",
          "text": [
            "[[250. 250. 250. ... 250. 250. 250.]\n",
            " [250. 250. 250. ... 250. 250. 250.]\n",
            " [250. 250. 250. ... 250. 250. 250.]\n",
            " ...\n",
            " [  0.   0.   0. ... 250. 250. 250.]\n",
            " [250. 250. 250. ... 250. 250. 250.]\n",
            " [250. 250. 250. ... 250. 250. 250.]]\n"
          ]
        },
        {
          "output_type": "display_data",
          "data": {
            "text/plain": [
              "<PIL.Image.Image image mode=L size=128x32 at 0x7F0E1C14B4D0>"
            ],
            "image/png": "[encoded data removed]"
          },
          "metadata": {}
        },
        {
          "output_type": "stream",
          "name": "stdout",
          "text": [
            "[[1. 1. 1. ... 1. 1. 1.]\n",
            " [1. 1. 1. ... 1. 1. 1.]\n",
            " [1. 1. 1. ... 1. 1. 1.]\n",
            " ...\n",
            " [0. 0. 0. ... 1. 1. 1.]\n",
            " [1. 1. 1. ... 1. 1. 1.]\n",
            " [1. 1. 1. ... 1. 1. 1.]]\n"
          ]
        },
        {
          "output_type": "display_data",
          "data": {
            "text/plain": [
              "<PIL.Image.Image image mode=L size=128x32 at 0x7F0E1BBF2090>"
            ],
            "image/png": "[encoded data removed]"
          },
          "metadata": {}
        },
        {
          "output_type": "execute_result",
          "data": {
            "text/plain": [
              "<matplotlib.colorbar.Colorbar at 0x7f0e1bb5ddd0>"
            ]
          },
          "metadata": {},
          "execution_count": 9
        },
        {
          "output_type": "display_data",
          "data": {
            "text/plain": [
              "<Figure size 432x288 with 2 Axes>"
            ],
            "image/png": "[encoded data removed]"
          },
          "metadata": {
            "needs_background": "light"
          }
        }
      ]
    },
    {
      "cell_type": "code",
      "source": [
        "vn_df.dropna(inplace=True)"
      ],
      "metadata": {
        "id": "NyUAxSdSfNbt"
      },
      "execution_count": 10,
      "outputs": []
    },
    {
      "cell_type": "code",
      "source": [
        "labels = []\n",
        "images = []\n",
        "\n",
        "for i in range(len(vn_df)):\n",
        "  label = vn_df.iloc[i][0].strip()\n",
        "  max_len_label = max(len(label), max_len_label)\n",
        "  labels.append(label)\n",
        "  img1 = np.array(vn_df.iloc[i][1].split(\" \"), dtype = float)\n",
        "  img1 = img1.reshape(128, 32)\n",
        "  img1 = img1.T/(-1*np.min(img1))+1    ## reverse-standardized and standardized again to suit the problem\n",
        "  img1 = np.expand_dims(img1, axis=2)\n",
        "  images.append(img1)\n",
        "\n",
        "print(np.asarray(images).shape, np.asarray(labels).shape)\n",
        "print(max_len_label)"
      ],
      "metadata": {
        "colab": {
          "base_uri": "https://localhost:8080/"
        },
        "id": "Ut7haXZUfeNU",
        "outputId": "344f51c1-07e3-4d2b-ddc7-c2f5065192f4"
      },
      "execution_count": 11,
      "outputs": [
        {
          "output_type": "stream",
          "name": "stdout",
          "text": [
            "(110734, 32, 128, 1) (110734,)\n",
            "11\n"
          ]
        }
      ]
    },
    {
      "cell_type": "markdown",
      "source": [
        "## Train-Test Split"
      ],
      "metadata": {
        "id": "FrAenBbxWlQ3"
      }
    },
    {
      "cell_type": "code",
      "source": [
        "X_train, X_valid, y_train, y_valid = train_test_split(images, labels, train_size= 0.90, shuffle = True)\n",
        "print(len(X_train), len(y_train), len(X_valid), len(y_valid))\n",
        "X_train, X_test, y_train, y_test = train_test_split(X_train, y_train, train_size= 0.80, shuffle = True)\n",
        "\n",
        "images = []\n",
        "labels = []"
      ],
      "metadata": {
        "colab": {
          "base_uri": "https://localhost:8080/"
        },
        "id": "mod5FaV2WkFk",
        "outputId": "2971d9f6-7cf8-4730-8159-ba7a39a35706"
      },
      "execution_count": 11,
      "outputs": [
        {
          "output_type": "stream",
          "name": "stdout",
          "text": [
            "99660 99660 11074 11074\n"
          ]
        }
      ]
    },
    {
      "cell_type": "code",
      "source": [
        "y_valid_enc = []\n",
        "valid_input_len = []\n",
        "y_valid_len = []\n",
        "\n",
        "for value in y_valid:\n",
        "  y_valid_enc.append(encode_to_labels(value))\n",
        "  y_valid_len.append(len(value))\n",
        "  valid_input_len.append(31)\n",
        "\n",
        "print(y_valid[:5])"
      ],
      "metadata": {
        "colab": {
          "base_uri": "https://localhost:8080/"
        },
        "id": "mUUJJhw8t-_l",
        "outputId": "36150d64-3f3c-4393-d0c3-5b017dde454a"
      },
      "execution_count": 12,
      "outputs": [
        {
          "output_type": "stream",
          "name": "stdout",
          "text": [
            "['nghiệp', 'kẻ', 'đó', 'gắt', '7']\n"
          ]
        }
      ]
    },
    {
      "cell_type": "code",
      "source": [
        "y_train_enc = []\n",
        "train_input_len = []\n",
        "y_train_len = []\n",
        "\n",
        "for value in y_train:\n",
        "  y_train_enc.append(encode_to_labels(value))\n",
        "  y_train_len.append(len(value))\n",
        "  train_input_len.append(31)\n",
        "\n",
        "print(y_train[:5])"
      ],
      "metadata": {
        "colab": {
          "base_uri": "https://localhost:8080/"
        },
        "id": "MWgVjBwLvVA8",
        "outputId": "26595050-f150-486c-8ffb-afb992ecf8c4"
      },
      "execution_count": 13,
      "outputs": [
        {
          "output_type": "stream",
          "name": "stdout",
          "text": [
            "['ra', 'Vũng', 'giải', 'hi', 'Có']\n"
          ]
        }
      ]
    },
    {
      "cell_type": "code",
      "source": [
        "# test_path = []\n",
        "# test_label = []\n",
        "# with open(\"/content/RWTH.iam_word_gt_final.test.thresh\") as test_list:\n",
        "#   for value in test_list:\n",
        "#     test_path.append(value.split(\",\")[0].strip()+\".png\")\n",
        "#     test_label.append(value.split(\" \",1)[1].strip())\n",
        "\n",
        "# # print(test_path)\n",
        "\n",
        "# max_len_label = max(max_len_label,len(max(test_label, key=len)))\n",
        "# # print(max_len_label)"
      ],
      "metadata": {
        "id": "_RH3gP5KvXHN"
      },
      "execution_count": null,
      "outputs": []
    },
    {
      "cell_type": "code",
      "source": [
        "y_train_padded = pad_sequences(y_train_enc, maxlen=max_len_label, padding='post', value = len(char_encoding))\n",
        "y_valid_padded = pad_sequences(y_valid_enc, maxlen=max_len_label, padding='post', value = len(char_encoding))"
      ],
      "metadata": {
        "id": "w9zWRgXd379N"
      },
      "execution_count": 14,
      "outputs": []
    },
    {
      "cell_type": "code",
      "source": [
        "cv2_imshow(X_train[0]*255)\n",
        "print(y_train[0])\n",
        "\n",
        "cv2_imshow(X_valid[0]*255)\n",
        "print(y_valid[0])\n",
        "\n",
        "cv2_imshow(X_test[5]*255)\n",
        "print(y_test[5])"
      ],
      "metadata": {
        "colab": {
          "base_uri": "https://localhost:8080/",
          "height": 165
        },
        "id": "IqpD1JJyvZar",
        "outputId": "6db8b8e3-20be-4ffe-804c-568458c2e1a9"
      },
      "execution_count": 15,
      "outputs": [
        {
          "output_type": "display_data",
          "data": {
            "text/plain": [
              "<PIL.Image.Image image mode=RGB size=128x32 at 0x7F2CB7635DD0>"
            ],
            "image/png": "[encoded data removed]"
          },
          "metadata": {}
        },
        {
          "output_type": "stream",
          "name": "stdout",
          "text": [
            "ra\n"
          ]
        },
        {
          "output_type": "display_data",
          "data": {
            "text/plain": [
              "<PIL.Image.Image image mode=RGB size=128x32 at 0x7F2CB763D050>"
            ],
            "image/png": "[encoded data removed]"
          },
          "metadata": {}
        },
        {
          "output_type": "stream",
          "name": "stdout",
          "text": [
            "nghiệp\n"
          ]
        },
        {
          "output_type": "display_data",
          "data": {
            "text/plain": [
              "<PIL.Image.Image image mode=RGB size=128x32 at 0x7F2CB7635550>"
            ],
            "image/png": "[encoded data removed]"
          },
          "metadata": {}
        },
        {
          "output_type": "stream",
          "name": "stdout",
          "text": [
            "nghiên\n"
          ]
        }
      ]
    },
    {
      "cell_type": "markdown",
      "source": [
        "## Network Architecture\n",
        "\n",
        "Based on [this](https://arxiv.org/pdf/1507.05717.pdf) paper and [this](https://theailearner.com/2019/05/29/creating-a-crnn-model-to-recognize-text-in-an-image-part-1/) blog."
      ],
      "metadata": {
        "id": "uWdR3eZe51eJ"
      }
    },
    {
      "cell_type": "code",
      "source": [
        "# input with shape of height=32 and width=128 \n",
        "inputs = Input(shape=(32,128,1))\n",
        " \n",
        "# convolution layer with kernel size (3,3)\n",
        "conv_1 = Conv2D(64, (3,3), activation = 'relu', padding='same')(inputs)\n",
        "# poolig layer with kernel size (2,2)\n",
        "pool_1 = MaxPool2D(pool_size=(2, 2), strides=2)(conv_1)\n",
        " \n",
        "conv_2 = Conv2D(128, (3,3), activation = 'relu', padding='same')(pool_1)\n",
        "pool_2 = MaxPool2D(pool_size=(2, 2), strides=2)(conv_2)\n",
        " \n",
        "conv_3 = Conv2D(256, (3,3), activation = 'relu', padding='same')(pool_2)\n",
        " \n",
        "conv_4 = Conv2D(256, (3,3), activation = 'relu', padding='same')(conv_3)\n",
        "# poolig layer with kernel size (2,1)\n",
        "pool_4 = MaxPool2D(pool_size=(2, 1))(conv_4)\n",
        " \n",
        "conv_5 = Conv2D(512, (3,3), activation = 'relu', padding='same')(pool_4)\n",
        "# Batch normalization layer\n",
        "batch_norm_5 = BatchNormalization()(conv_5)\n",
        " \n",
        "conv_6 = Conv2D(512, (3,3), activation = 'relu', padding='same')(batch_norm_5)\n",
        "batch_norm_6 = BatchNormalization()(conv_6)\n",
        "pool_6 = MaxPool2D(pool_size=(2, 1))(batch_norm_6)\n",
        " \n",
        "conv_7 = Conv2D(512, (2,2), activation = 'relu')(pool_6)\n",
        " \n",
        "squeezed = Lambda(lambda x: K.squeeze(x, 1))(conv_7)\n",
        " \n",
        "# bidirectional LSTM layers with units=128\n",
        "blstm_1 = Bidirectional(LSTM(128, return_sequences=True, dropout = 0.2))(squeezed)\n",
        "blstm_2 = Bidirectional(LSTM(128, return_sequences=True, dropout = 0.2))(blstm_1)\n",
        " \n",
        "outputs = Dense(len(char_encoding)+1, activation = 'softmax')(blstm_2)\n",
        "\n",
        "# model to be used at test time\n",
        "act_model = Model(inputs, outputs)"
      ],
      "metadata": {
        "id": "gKnkuliekHbm"
      },
      "execution_count": 16,
      "outputs": []
    },
    {
      "cell_type": "code",
      "source": [
        "act_model.summary()"
      ],
      "metadata": {
        "id": "uG0cubQcgb7G",
        "colab": {
          "base_uri": "https://localhost:8080/"
        },
        "outputId": "0fc2a20d-5d48-4059-afa4-78b7331feaf6"
      },
      "execution_count": 17,
      "outputs": [
        {
          "output_type": "stream",
          "name": "stdout",
          "text": [
            "Model: \"model\"\n",
            "_________________________________________________________________\n",
            " Layer (type)                Output Shape              Param #   \n",
            "=================================================================\n",
            " input_1 (InputLayer)        [(None, 32, 128, 1)]      0         \n",
            "                                                                 \n",
            " conv2d (Conv2D)             (None, 32, 128, 64)       640       \n",
            "                                                                 \n",
            " max_pooling2d (MaxPooling2D  (None, 16, 64, 64)       0         \n",
            " )                                                               \n",
            "                                                                 \n",
            " conv2d_1 (Conv2D)           (None, 16, 64, 128)       73856     \n",
            "                                                                 \n",
            " max_pooling2d_1 (MaxPooling  (None, 8, 32, 128)       0         \n",
            " 2D)                                                             \n",
            "                                                                 \n",
            " conv2d_2 (Conv2D)           (None, 8, 32, 256)        295168    \n",
            "                                                                 \n",
            " conv2d_3 (Conv2D)           (None, 8, 32, 256)        590080    \n",
            "                                                                 \n",
            " max_pooling2d_2 (MaxPooling  (None, 4, 32, 256)       0         \n",
            " 2D)                                                             \n",
            "                                                                 \n",
            " conv2d_4 (Conv2D)           (None, 4, 32, 512)        1180160   \n",
            "                                                                 \n",
            " batch_normalization (BatchN  (None, 4, 32, 512)       2048      \n",
            " ormalization)                                                   \n",
            "                                                                 \n",
            " conv2d_5 (Conv2D)           (None, 4, 32, 512)        2359808   \n",
            "                                                                 \n",
            " batch_normalization_1 (Batc  (None, 4, 32, 512)       2048      \n",
            " hNormalization)                                                 \n",
            "                                                                 \n",
            " max_pooling2d_3 (MaxPooling  (None, 2, 32, 512)       0         \n",
            " 2D)                                                             \n",
            "                                                                 \n",
            " conv2d_6 (Conv2D)           (None, 1, 31, 512)        1049088   \n",
            "                                                                 \n",
            " lambda (Lambda)             (None, 31, 512)           0         \n",
            "                                                                 \n",
            " bidirectional (Bidirectiona  (None, 31, 256)          656384    \n",
            " l)                                                              \n",
            "                                                                 \n",
            " bidirectional_1 (Bidirectio  (None, 31, 256)          394240    \n",
            " nal)                                                            \n",
            "                                                                 \n",
            " dense (Dense)               (None, 31, 148)           38036     \n",
            "                                                                 \n",
            "=================================================================\n",
            "Total params: 6,641,556\n",
            "Trainable params: 6,639,508\n",
            "Non-trainable params: 2,048\n",
            "_________________________________________________________________\n"
          ]
        }
      ]
    },
    {
      "cell_type": "markdown",
      "source": [
        "## CTC Loss function"
      ],
      "metadata": {
        "id": "aah-qIWN0AP0"
      }
    },
    {
      "cell_type": "code",
      "source": [
        "labels = Input(name='the_labels', shape=[max_len_label], dtype='float32')\n",
        "input_length = Input(name='input_length', shape=[1], dtype='int64')\n",
        "label_length = Input(name='label_length', shape=[1], dtype='int64')\n",
        "\n",
        "def ctc_lambda_func(args):\n",
        "    y_pred, labels, input_length, label_length = args\n",
        " \n",
        "    return K.ctc_batch_cost(labels, y_pred, input_length, label_length)\n",
        "\n",
        "loss_out = Lambda(ctc_lambda_func, output_shape=(1,), name='ctc')([outputs, labels, input_length, label_length])\n",
        "\n",
        "#model to be used at training time\n",
        "model = Model(inputs=[inputs, labels, input_length, label_length], outputs=loss_out)"
      ],
      "metadata": {
        "id": "Sxm3Z40EM9qE"
      },
      "execution_count": 18,
      "outputs": []
    },
    {
      "cell_type": "markdown",
      "source": [
        "## Training and Validation"
      ],
      "metadata": {
        "id": "58ijorYB0E3Z"
      }
    },
    {
      "cell_type": "code",
      "source": [
        "model.compile(loss={'ctc': lambda y_true, y_pred: y_pred}, optimizer = 'adam')\n",
        " \n",
        "# filepath=\"best_model.hdf5\"\n",
        "filepath = \"/content/drive/MyDrive/Kaggle/vn_htr_best_model.hdf5\"\n",
        "checkpoint = ModelCheckpoint(filepath=filepath, monitor='val_loss', verbose=1, save_best_only=True, mode='auto')\n",
        "callbacks_list = [checkpoint]"
      ],
      "metadata": {
        "id": "q3sFjkN_Oaq9"
      },
      "execution_count": 19,
      "outputs": []
    },
    {
      "cell_type": "code",
      "source": [
        "X_train = np.array(X_train)\n",
        "train_input_len = np.array(train_input_len)\n",
        "y_train_len = np.array(y_train_len)\n",
        "\n",
        "X_valid = np.array(X_valid)\n",
        "valid_input_len = np.array(valid_input_len)\n",
        "y_valid_len = np.array(y_valid_len)"
      ],
      "metadata": {
        "id": "a4FUS9W5ObeY"
      },
      "execution_count": 20,
      "outputs": []
    },
    {
      "cell_type": "code",
      "source": [
        "X_test = np.array(X_test)"
      ],
      "metadata": {
        "id": "zN2f9BrFawoQ"
      },
      "execution_count": 21,
      "outputs": []
    },
    {
      "cell_type": "code",
      "source": [
        "def train_initial(model,_epochs=10, _batch_size=256):\n",
        "  model.fit(x=[X_train, y_train_padded, train_input_len, y_train_len], y=np.zeros(len(train_input_len)), batch_size=_batch_size, epochs = _epochs, validation_data = ([X_valid, y_valid_padded, valid_input_len, y_valid_len], [np.zeros(len(valid_input_len))]), verbose = 1, callbacks = callbacks_list)\n",
        "\n",
        "def continue_training(model):\n",
        "  model.load_weights(\"/content/drive/MyDrive/Kaggle/vn_htr_best_model.hdf5\")\n",
        "  train_initial(model)\n",
        "\n",
        "def transfer_learning(model):\n",
        "  model.load_weights(\"/content/drive/MyDrive/IAM_dataset/best_model.hdf5\", by_name=True, skip_mismatch=True)\n",
        "  train_initial(model, _batch_size=64)"
      ],
      "metadata": {
        "id": "z77bdpStOdOp"
      },
      "execution_count": 28,
      "outputs": []
    },
    {
      "cell_type": "code",
      "source": [
        "transfer_learning(model)"
      ],
      "metadata": {
        "colab": {
          "base_uri": "https://localhost:8080/"
        },
        "id": "BsFE3ua2kHdU",
        "outputId": "12dcd54c-fef1-45db-86b7-68a1bb292a34"
      },
      "execution_count": 29,
      "outputs": [
        {
          "output_type": "stream",
          "name": "stdout",
          "text": [
            "WARNING:tensorflow:Skipping loading weights for layer #17 (named dense) due to mismatch in shape for weight dense/kernel:0. Weight expects shape (256, 148). Received saved weight with shape (256, 81)\n",
            "WARNING:tensorflow:Skipping loading weights for layer #17 (named dense) due to mismatch in shape for weight dense/bias:0. Weight expects shape (148,). Received saved weight with shape (81,)\n",
            "Epoch 1/10\n",
            "1246/1246 [==============================] - ETA: 0s - loss: 8.0001\n",
            "Epoch 1: val_loss improved from inf to 4.87941, saving model to /content/drive/MyDrive/Kaggle/vn_htr_best_model.hdf5\n",
            "1246/1246 [==============================] - 144s 98ms/step - loss: 8.0001 - val_loss: 4.8794\n",
            "Epoch 2/10\n",
            "1246/1246 [==============================] - ETA: 0s - loss: 3.7896\n",
            "Epoch 2: val_loss improved from 4.87941 to 3.15803, saving model to /content/drive/MyDrive/Kaggle/vn_htr_best_model.hdf5\n",
            "1246/1246 [==============================] - 114s 92ms/step - loss: 3.7896 - val_loss: 3.1580\n",
            "Epoch 3/10\n",
            "1246/1246 [==============================] - ETA: 0s - loss: 2.6399\n",
            "Epoch 3: val_loss improved from 3.15803 to 2.51062, saving model to /content/drive/MyDrive/Kaggle/vn_htr_best_model.hdf5\n",
            "1246/1246 [==============================] - 115s 92ms/step - loss: 2.6399 - val_loss: 2.5106\n",
            "Epoch 4/10\n",
            "1246/1246 [==============================] - ETA: 0s - loss: 2.1332\n",
            "Epoch 4: val_loss improved from 2.51062 to 2.25194, saving model to /content/drive/MyDrive/Kaggle/vn_htr_best_model.hdf5\n",
            "1246/1246 [==============================] - 114s 91ms/step - loss: 2.1332 - val_loss: 2.2519\n",
            "Epoch 5/10\n",
            "1246/1246 [==============================] - ETA: 0s - loss: 1.8058\n",
            "Epoch 5: val_loss improved from 2.25194 to 2.20712, saving model to /content/drive/MyDrive/Kaggle/vn_htr_best_model.hdf5\n",
            "1246/1246 [==============================] - 115s 92ms/step - loss: 1.8058 - val_loss: 2.2071\n",
            "Epoch 6/10\n",
            "1246/1246 [==============================] - ETA: 0s - loss: 1.5997\n",
            "Epoch 6: val_loss improved from 2.20712 to 1.94605, saving model to /content/drive/MyDrive/Kaggle/vn_htr_best_model.hdf5\n",
            "1246/1246 [==============================] - 114s 91ms/step - loss: 1.5997 - val_loss: 1.9460\n",
            "Epoch 7/10\n",
            "1246/1246 [==============================] - ETA: 0s - loss: 1.4337\n",
            "Epoch 7: val_loss did not improve from 1.94605\n",
            "1246/1246 [==============================] - 114s 91ms/step - loss: 1.4337 - val_loss: 2.1019\n",
            "Epoch 8/10\n",
            "1246/1246 [==============================] - ETA: 0s - loss: 1.2968\n",
            "Epoch 8: val_loss improved from 1.94605 to 1.86405, saving model to /content/drive/MyDrive/Kaggle/vn_htr_best_model.hdf5\n",
            "1246/1246 [==============================] - 114s 92ms/step - loss: 1.2968 - val_loss: 1.8640\n",
            "Epoch 9/10\n",
            "1246/1246 [==============================] - ETA: 0s - loss: 1.1925\n",
            "Epoch 9: val_loss improved from 1.86405 to 1.76362, saving model to /content/drive/MyDrive/Kaggle/vn_htr_best_model.hdf5\n",
            "1246/1246 [==============================] - 115s 92ms/step - loss: 1.1925 - val_loss: 1.7636\n",
            "Epoch 10/10\n",
            "1246/1246 [==============================] - ETA: 0s - loss: 1.1190\n",
            "Epoch 10: val_loss improved from 1.76362 to 1.72688, saving model to /content/drive/MyDrive/Kaggle/vn_htr_best_model.hdf5\n",
            "1246/1246 [==============================] - 114s 92ms/step - loss: 1.1190 - val_loss: 1.7269\n"
          ]
        }
      ]
    },
    {
      "cell_type": "code",
      "source": [
        "!nvidia-smi"
      ],
      "metadata": {
        "id": "NgDcSxTkvVQD"
      },
      "execution_count": null,
      "outputs": []
    },
    {
      "cell_type": "code",
      "source": [
        "!ps -aux|grep python"
      ],
      "metadata": {
        "id": "fORfLt7Pvkzn"
      },
      "execution_count": null,
      "outputs": []
    },
    {
      "cell_type": "markdown",
      "source": [
        "## Testing"
      ],
      "metadata": {
        "id": "F6OaGzJw0Lzf"
      }
    },
    {
      "cell_type": "code",
      "source": [
        "act_model.load_weights(\"/content/drive/MyDrive/Kaggle/vn_htr_best_model.hdf5\")\n",
        "\n",
        "prediction = act_model.predict(X_test)\n",
        "\n",
        "out = K.get_value(K.ctc_decode(prediction, input_length=np.ones(prediction.shape[0])*prediction.shape[1],greedy=True)[0][0])\n",
        "\n",
        "predicted_labels = [\"\".join([char_encoding[x] for x in img if x != -1]) for img in out]\n",
        "# print([\"\".join([char_encoding[x] for x in img if x != -1]) for img in out])\n",
        "# print(predicted_labels[:10])"
      ],
      "metadata": {
        "id": "Gy7CiKAVOkHb"
      },
      "execution_count": null,
      "outputs": []
    },
    {
      "cell_type": "code",
      "source": [
        "for i in range(10):\n",
        "  cv2_imshow(X_test[i]*255)\n",
        "  print(y_test[i])\n",
        "  print(predicted_labels[i])"
      ],
      "metadata": {
        "id": "Twv1NTikvj5N"
      },
      "execution_count": null,
      "outputs": []
    }
  ]
}