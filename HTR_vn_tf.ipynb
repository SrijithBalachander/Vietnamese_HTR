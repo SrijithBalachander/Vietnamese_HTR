{
  "nbformat": 4,
  "nbformat_minor": 0,
  "metadata": {
    "colab": {
      "name": "HTR_vn_tf.ipynb",
      "provenance": [],
      "authorship_tag": "ABX9TyPk7G51gSSXMN8xHYnUH3IJ",
      "include_colab_link": true
    },
    "kernelspec": {
      "name": "python3",
      "display_name": "Python 3"
    },
    "language_info": {
      "name": "python"
    },
    "accelerator": "GPU"
  },
  "cells": [
    {
      "cell_type": "markdown",
      "metadata": {
        "id": "view-in-github",
        "colab_type": "text"
      },
      "source": [
        "<a href=\"https://colab.research.google.com/github/SrijithBalachander/Vietnamese_HTR/blob/main/HTR_vn_tf.ipynb\" target=\"_parent\"><img src=\"https://colab.research.google.com/assets/colab-badge.svg\" alt=\"Open In Colab\"/></a>"
      ]
    },
    {
      "cell_type": "markdown",
      "source": [
        "# Vietnamese HTR"
      ],
      "metadata": {
        "id": "WCGVSPUA-7GW"
      }
    },
    {
      "cell_type": "code",
      "source": [
        "from google.colab import drive\n",
        "drive.mount('/content/drive')"
      ],
      "metadata": {
        "colab": {
          "base_uri": "https://localhost:8080/"
        },
        "id": "kWVP5ZTdq9MM",
        "outputId": "d167c9c4-fa57-41ea-e038-b0d605d855b5"
      },
      "execution_count": 1,
      "outputs": [
        {
          "output_type": "stream",
          "name": "stdout",
          "text": [
            "Mounted at /content/drive\n"
          ]
        }
      ]
    },
    {
      "cell_type": "markdown",
      "source": [
        "## Importing from Kaggle\n",
        "\n",
        "Skip if previously done"
      ],
      "metadata": {
        "id": "PSEo4nQuZFCz"
      }
    },
    {
      "cell_type": "code",
      "source": [
        "!pip install kaggle"
      ],
      "metadata": {
        "id": "JjKlCtZlTwS8"
      },
      "execution_count": null,
      "outputs": []
    },
    {
      "cell_type": "code",
      "source": [
        "%cd \"/content/drive/MyDrive/Kaggle\""
      ],
      "metadata": {
        "id": "AMmonHr2T5AL"
      },
      "execution_count": null,
      "outputs": []
    },
    {
      "cell_type": "code",
      "source": [
        "!kaggle datasets download -d bomaich/vietnamese-handwritten-ocr"
      ],
      "metadata": {
        "id": "dsRMJ3IoucGD"
      },
      "execution_count": null,
      "outputs": []
    },
    {
      "cell_type": "code",
      "source": [
        "!mkdir vietnamese_handwritten_ocr\n",
        "!unzip -q vietnamese-handwritten-ocr.zip -d vietnamese_handwritten_ocr/"
      ],
      "metadata": {
        "id": "ra9jigLDuesk"
      },
      "execution_count": null,
      "outputs": []
    },
    {
      "cell_type": "code",
      "source": [
        "!ls vietnamese_handwritten_ocr/"
      ],
      "metadata": {
        "id": "q_wPhR5SuidK"
      },
      "execution_count": null,
      "outputs": []
    },
    {
      "cell_type": "code",
      "source": [
        "%cd /content"
      ],
      "metadata": {
        "id": "VdcN9Fogui2T"
      },
      "execution_count": null,
      "outputs": []
    },
    {
      "cell_type": "markdown",
      "source": [
        "## Importing packages"
      ],
      "metadata": {
        "id": "2JcDJcjXeVfg"
      }
    },
    {
      "cell_type": "code",
      "source": [
        "import tensorflow as tf\n",
        "import numpy as np\n",
        "import pandas as pd\n",
        "import matplotlib.pyplot as plt\n",
        "import csv"
      ],
      "metadata": {
        "id": "TgO52vAitnA_"
      },
      "execution_count": 2,
      "outputs": []
    },
    {
      "cell_type": "code",
      "source": [
        "import os\n",
        "import cv2\n",
        "import re"
      ],
      "metadata": {
        "id": "p46miJo3tnmZ"
      },
      "execution_count": 3,
      "outputs": []
    },
    {
      "cell_type": "code",
      "source": [
        "import string\n",
        "import time\n",
        "\n",
        "from keras.preprocessing.sequence import pad_sequences\n",
        "\n",
        "from keras.layers import Dense, LSTM, Reshape, BatchNormalization, Input, Conv2D, MaxPool2D, Lambda, Bidirectional\n",
        "from keras.models import Model\n",
        "from keras.activations import relu, sigmoid, softmax\n",
        "import keras.backend as K\n",
        "from tensorflow.keras.utils import to_categorical\n",
        "from keras.callbacks import ModelCheckpoint\n",
        "from sklearn.model_selection import GridSearchCV, train_test_split, RepeatedStratifiedKFold, cross_val_score, KFold,StratifiedKFold "
      ],
      "metadata": {
        "id": "fzAbFs_MtpFn"
      },
      "execution_count": 4,
      "outputs": []
    },
    {
      "cell_type": "code",
      "source": [
        "from PIL import Image\n",
        "from google.colab.patches import cv2_imshow\n",
        "import matplotlib.pyplot as plt\n",
        "%matplotlib inline"
      ],
      "metadata": {
        "id": "8J0A6L6GYSqH"
      },
      "execution_count": 5,
      "outputs": []
    },
    {
      "cell_type": "markdown",
      "source": [
        "## Getting Data from Drive for processing\n",
        "\n",
        "Copying processed VNonDB word dataset from drive for further processing into train, valid and test data. The VNonDB word dataset was originally in INKML format which has been converted to corresponding image and label files."
      ],
      "metadata": {
        "id": "39ndOPXZLNDi"
      }
    },
    {
      "cell_type": "code",
      "source": [
        "%cp \"/content/drive/MyDrive/InkData_word_processed_resized.zip\" .\n",
        "%cp \"/content/drive/MyDrive/InkData_word_labels.zip\" ."
      ],
      "metadata": {
        "id": "raU0q9nbnmMK"
      },
      "execution_count": 6,
      "outputs": []
    },
    {
      "cell_type": "code",
      "source": [
        "!wget https://raw.githubusercontent.com/SrijithBalachander/Vietnamese_HTR/main/data_split/test_set.txt\n",
        "!wget https://raw.githubusercontent.com/SrijithBalachander/Vietnamese_HTR/main/data_split/validation_set.txt\n",
        "!wget https://raw.githubusercontent.com/SrijithBalachander/Vietnamese_HTR/main/data_split/train_set.txt"
      ],
      "metadata": {
        "colab": {
          "base_uri": "https://localhost:8080/"
        },
        "id": "hA_48DeHNc-5",
        "outputId": "981652a3-1695-4826-a5b3-136643095340"
      },
      "execution_count": 7,
      "outputs": [
        {
          "output_type": "stream",
          "name": "stdout",
          "text": [
            "--2022-06-09 20:48:00--  https://raw.githubusercontent.com/SrijithBalachander/Vietnamese_HTR/main/data_split/test_set.txt\n",
            "Resolving raw.githubusercontent.com (raw.githubusercontent.com)... 185.199.108.133, 185.199.109.133, 185.199.110.133, ...\n",
            "Connecting to raw.githubusercontent.com (raw.githubusercontent.com)|185.199.108.133|:443... connected.\n",
            "HTTP request sent, awaiting response... 200 OK\n",
            "Length: 1783 (1.7K) [text/plain]\n",
            "Saving to: ‘test_set.txt’\n",
            "\n",
            "test_set.txt        100%[===================>]   1.74K  --.-KB/s    in 0s      \n",
            "\n",
            "2022-06-09 20:48:00 (12.4 MB/s) - ‘test_set.txt’ saved [1783/1783]\n",
            "\n",
            "--2022-06-09 20:48:01--  https://raw.githubusercontent.com/SrijithBalachander/Vietnamese_HTR/main/data_split/validation_set.txt\n",
            "Resolving raw.githubusercontent.com (raw.githubusercontent.com)... 185.199.108.133, 185.199.109.133, 185.199.110.133, ...\n",
            "Connecting to raw.githubusercontent.com (raw.githubusercontent.com)|185.199.108.133|:443... connected.\n",
            "HTTP request sent, awaiting response... 200 OK\n",
            "Length: 1074 (1.0K) [text/plain]\n",
            "Saving to: ‘validation_set.txt’\n",
            "\n",
            "validation_set.txt  100%[===================>]   1.05K  --.-KB/s    in 0s      \n",
            "\n",
            "2022-06-09 20:48:01 (60.1 MB/s) - ‘validation_set.txt’ saved [1074/1074]\n",
            "\n",
            "--2022-06-09 20:48:01--  https://raw.githubusercontent.com/SrijithBalachander/Vietnamese_HTR/main/data_split/train_set.txt\n",
            "Resolving raw.githubusercontent.com (raw.githubusercontent.com)... 185.199.111.133, 185.199.110.133, 185.199.108.133, ...\n",
            "Connecting to raw.githubusercontent.com (raw.githubusercontent.com)|185.199.111.133|:443... connected.\n",
            "HTTP request sent, awaiting response... 200 OK\n",
            "Length: 4266 (4.2K) [text/plain]\n",
            "Saving to: ‘train_set.txt’\n",
            "\n",
            "train_set.txt       100%[===================>]   4.17K  --.-KB/s    in 0s      \n",
            "\n",
            "2022-06-09 20:48:01 (56.1 MB/s) - ‘train_set.txt’ saved [4266/4266]\n",
            "\n"
          ]
        }
      ]
    },
    {
      "cell_type": "code",
      "source": [
        "# !pip install patool\n",
        "# import patoolib"
      ],
      "metadata": {
        "id": "4QkY9nrqMLQx"
      },
      "execution_count": null,
      "outputs": []
    },
    {
      "cell_type": "code",
      "source": [
        "# %mkdir \"InkData_word_processed/\"\n",
        "# patoolib.extract_archive(\"InkData_word_processed.rar\", outdir=\"InkData_word_processed/\")"
      ],
      "metadata": {
        "id": "BXd94sp-a-H5"
      },
      "execution_count": null,
      "outputs": []
    },
    {
      "cell_type": "code",
      "source": [
        "!unzip -q InkData_word_processed_resized.zip\n",
        "!unzip -q InkData_word_labels.zip"
      ],
      "metadata": {
        "id": "b4Ss28mgoW7r"
      },
      "execution_count": 8,
      "outputs": []
    },
    {
      "cell_type": "markdown",
      "source": [
        "## Split into Train, Valid and Test"
      ],
      "metadata": {
        "id": "Em0YW23bM-v_"
      }
    },
    {
      "cell_type": "code",
      "source": [
        "def pil_resize(image):\n",
        "  # image = Image.open(all_paths[file])\n",
        "  # image = np.asarray(image)\n",
        "  # right = 100\n",
        "  # left = 100\n",
        "  # top = 100\n",
        "  # bottom = 100\n",
        "    \n",
        "  width, height = image.size\n",
        "  new_width,new_height = image.size\n",
        "\n",
        "  if width < 128:\n",
        "    new_width = width + (128-width)\n",
        "  if height < 32:\n",
        "    new_height = height + (32-height)\n",
        "\n",
        "  result = Image.new(image.mode, (new_width, new_height), (255))\n",
        "\n",
        "  result.paste(image, ((new_width-width)//2, (new_height-height)//2))\n",
        "\n",
        "  return np.array(result)"
      ],
      "metadata": {
        "id": "SwwhFkZObj8g"
      },
      "execution_count": 9,
      "outputs": []
    },
    {
      "cell_type": "code",
      "source": [
        "char_encoding = '0123456789ABCDEFGHIJKLMNOPQRSTUVWXYabcdefghijklmnopqrstuvxyzÀÁÂÔÚÝàáâãèéêìíòóôõùúýĂăĐđĩũƒƠơƯưạẢảẤấẦầẩẫậắằẳẵặẹẻẽếỀềỂểễỆệỉịọỏỐốỒồổỗộớờỞởỡợụỦủứừửữựỳỷỹ'\n",
        "print ('the number of characters:', len(char_encoding))\n",
        "max_len_label = 0\n",
        "\n",
        "def encode_to_labels(txt):\n",
        "    # encoding each output word into digits\n",
        "    dig_lst = []\n",
        "    for index, char in enumerate(txt):\n",
        "        try:\n",
        "            dig_lst.append(char_encoding.index(char))\n",
        "        except:\n",
        "            print(char)\n",
        "        \n",
        "    return dig_lst"
      ],
      "metadata": {
        "colab": {
          "base_uri": "https://localhost:8080/"
        },
        "id": "G1tYSu4VtqvN",
        "outputId": "c16599bc-6ede-471d-a65f-abacf5341195"
      },
      "execution_count": 10,
      "outputs": [
        {
          "output_type": "stream",
          "name": "stdout",
          "text": [
            "the number of characters: 147\n"
          ]
        }
      ]
    },
    {
      "cell_type": "code",
      "source": [
        "X_train = []\n",
        "X_valid = []\n",
        "X_test = []\n",
        "y_train = []\n",
        "y_valid = []\n",
        "y_test = []\n",
        "\n",
        "y_train_enc = []\n",
        "train_input_len = []\n",
        "y_train_len = []\n",
        "y_valid_enc = []\n",
        "valid_input_len = []\n",
        "y_valid_len = []\n",
        "\n",
        "images_path = \"InkData_word_processed_resized\"\n",
        "labels_path = \"InkData_word_labels\"\n",
        "\n",
        "# os.chdir(\"InkData_word_processed_resized\")\n",
        "\n",
        "label_files = os.listdir(labels_path)\n",
        "\n",
        "with open(\"/content/train_set.txt\", \"r\") as file:\n",
        "  for value in file:\n",
        "    value = value.split(\".\")[0]\n",
        "    for filename in label_files:\n",
        "      filename = filename.split(\".\")[0]\n",
        "      if value in filename:\n",
        "        image = cv2.cvtColor(cv2.imread(os.path.join(images_path,filename+\".png\")),cv2.COLOR_BGR2GRAY)\n",
        "        # image = Image.open(os.path.join(images_path,filename[0]+\".png\"))\n",
        "        # image = pil_resize(image)\n",
        "        # image = cv2.resize(image, (128,32))\n",
        "        image = image/255.\n",
        "        image = np.expand_dims(image, axis=2)\n",
        "        X_train.append(image)\n",
        "        with open(os.path.join(labels_path,filename+\".txt\"), \"r\") as label_file:\n",
        "          # print(label_file)\n",
        "          for label in label_file:\n",
        "          # label = label_file[0].strip()\n",
        "            y_train.append(label)\n",
        "            y_train_enc.append(encode_to_labels(label))\n",
        "            y_train_len.append(len(label))\n",
        "            train_input_len.append(31)\n",
        "            max_len_label = max(max_len_label,len(label))\n",
        "\n",
        "with open(\"/content/validation_set.txt\", \"r\") as file:\n",
        "  for value in file:\n",
        "    value = value.split(\".\")[0]\n",
        "    for filename in label_files:\n",
        "      filename = filename.split(\".\")[0]\n",
        "      if value in filename:\n",
        "        image = cv2.cvtColor(cv2.imread(os.path.join(images_path,filename+\".png\")),cv2.COLOR_BGR2GRAY)\n",
        "        # image = Image.open(os.path.join(images_path,filename[0]+\".png\"))\n",
        "        # image = pil_resize(image)\n",
        "        # image = cv2.resize(image, (128,32))\n",
        "        image = image/255.\n",
        "        image = np.expand_dims(image, axis=2)\n",
        "        X_valid.append(image)\n",
        "        with open(os.path.join(labels_path,filename+\".txt\"), \"r\") as label_file:\n",
        "          # print(label_file)\n",
        "          for label in label_file:\n",
        "          # label = label_file[0].strip()\n",
        "            y_valid.append(label)\n",
        "            y_valid_enc.append(encode_to_labels(label))\n",
        "            y_valid_len.append(len(label))\n",
        "            valid_input_len.append(31)\n",
        "            max_len_label = max(max_len_label,len(label))\n",
        "\n",
        "\n",
        "with open(\"/content/test_set.txt\", \"r\") as file:\n",
        "  for value in file:\n",
        "    value = value.split(\".\")[0]\n",
        "    for filename in label_files:\n",
        "      filename = filename.split(\".\")[0]\n",
        "      if value in filename:\n",
        "        image = cv2.cvtColor(cv2.imread(os.path.join(images_path,filename+\".png\")),cv2.COLOR_BGR2GRAY)\n",
        "        # image = Image.open(os.path.join(images_path,filename[0]+\".png\"))\n",
        "        # image = pil_resize(image)\n",
        "        # image = cv2.resize(image, (128,32))\n",
        "        image = image/255.\n",
        "        image = np.expand_dims(image, axis=2)\n",
        "        X_test.append(image)\n",
        "        with open(os.path.join(labels_path,filename+\".txt\"), \"r\") as label_file:\n",
        "          # print(label_file)\n",
        "          for label in label_file:\n",
        "          # label = label_file[0].strip()\n",
        "            y_test.append(label)\n",
        "            max_len_label = max(max_len_label,len(label))\n",
        "\n",
        "label_files = []    ## stopping RAM from exploding\n",
        "\n",
        "# with open(\"/content/test_set.txt\", \"r\") as file:\n",
        "#   for value in file:\n",
        "#     value = value.split(\".\")[0]\n",
        "#     for filename in os.listdir():\n",
        "#       if(filename == \"InkData_word_processed_resized\"):\n",
        "#         continue\n",
        "#       filename = filename.split(\".\")\n",
        "#       if filename[1] == \"png\" and value in filename[0]:\n",
        "#         image = Image.open(filename[0]+\".png\")\n",
        "#         image = pil_resize(image)\n",
        "#         image = cv2.resize(image, (128,32))\n",
        "#         image = image/255.\n",
        "#         image = np.expand_dims(image, axis=2)\n",
        "        \n",
        "#         X_test.append(image)\n",
        "#         with open(filename[0]+\".txt\", \"r\") as label_file:\n",
        "#           for label in label_file:\n",
        "#             y_test.append(label)\n",
        "#             max_len_label = max(max_len_label,len(label))\n",
        "\n",
        "# with open(\"/content/validation_set.txt\", \"r\") as file:\n",
        "#   for value in file:\n",
        "#     value = value.split(\".\")[0]\n",
        "#     for filename in os.listdir():\n",
        "#       if(filename == \"InkData_word_processed_resized\"):\n",
        "#         continue\n",
        "#       filename = filename.split(\".\")\n",
        "#       if filename[1] == \"png\" and value in filename[0]:\n",
        "#         image = Image.open(filename[0]+\".png\")\n",
        "#         image = pil_resize(image)\n",
        "#         image = cv2.resize(image, (128,32))\n",
        "#         image = image/255.\n",
        "#         image = np.expand_dims(image, axis=2)\n",
        "#         X_valid.append(image)\n",
        "#         with open(filename[0]+\".txt\", \"r\") as label_file:\n",
        "#           for label in label_file:\n",
        "#             y_valid.append(label)\n",
        "#             y_valid_enc.append(encode_to_labels(label))\n",
        "#             y_valid_len.append(len(label))\n",
        "#             valid_input_len.append(31)\n",
        "#             max_len_label = max(max_len_label,len(label))\n",
        "\n",
        "# print(max_len_label, len(y_train), len(y_valid), len(y_test))\n",
        "# print(y_valid[:5])"
      ],
      "metadata": {
        "id": "vxvU4ajyM3S7"
      },
      "execution_count": 11,
      "outputs": []
    },
    {
      "cell_type": "markdown",
      "source": [
        "## Preparing Dataset\n",
        "\n",
        "If following the pre-defined split above, jump to next section."
      ],
      "metadata": {
        "id": "EVn8RPiCur_R"
      }
    },
    {
      "cell_type": "code",
      "source": [
        "data_file = \"/content/drive/MyDrive/Kaggle/vietnamese_handwritten_ocr/aug_word_data4.csv\"\n",
        "vn_df = pd.read_csv(data_file)"
      ],
      "metadata": {
        "id": "dSGG5wVNt4ec"
      },
      "execution_count": null,
      "outputs": []
    },
    {
      "cell_type": "code",
      "source": [
        "print(vn_df.iloc[0][0])\n",
        "img1 = np.array(vn_df.iloc[0][1].split(\" \"), dtype = float)#np.array([float(x) for x in vn_df.iloc[0][1].split(\" \")])\n",
        "img1 = img1.reshape(128, 32)\n",
        "print(np.histogram(img1))\n",
        "plt.hist(img1)\n",
        "plt.show()\n",
        "print((img1.T + -1*np.min(img1))*50)\n",
        "cv2_imshow((img1.T + -1*np.min(img1))*50)\n",
        "print(((img1.T+-1*np.min(img1))/(-1*np.min(img1))))\n",
        "# cv2_imshow(((img1.T+-1*np.min(img1))/(-1*np.min(img1)))*255)\n",
        "cv2_imshow(((img1.T/(-1*np.min(img1)))+1)*255)\n",
        "img1 = (img1.T/(-1*np.min(img1))+1)*255\n",
        "# plt.imshow(np.asarray(pd.to_numeric(vn_df.iloc[0][1])))\n",
        "plt.imshow(img1/255.)\n",
        "# plt.show()\n",
        "plt.colorbar()"
      ],
      "metadata": {
        "colab": {
          "base_uri": "https://localhost:8080/",
          "height": 865
        },
        "id": "gzFO8YwWt7bq",
        "outputId": "e4b61069-ef60-4523-c8ad-892f0ba2763d"
      },
      "execution_count": null,
      "outputs": [
        {
          "output_type": "stream",
          "name": "stdout",
          "text": [
            "Bản\n",
            "(array([ 190,    0,   45,    0,   13,    0,   21,    0,   24, 3803]), array([-5. , -4.5, -4. , -3.5, -3. , -2.5, -2. , -1.5, -1. , -0.5,  0. ]))\n"
          ]
        },
        {
          "output_type": "display_data",
          "data": {
            "text/plain": [
              "<Figure size 432x288 with 1 Axes>"
            ],
            "image/png": "[encoded data removed]"
          },
          "metadata": {
            "needs_background": "light"
          }
        },
        {
          "output_type": "stream",
          "name": "stdout",
          "text": [
            "[[250. 250. 250. ... 250. 250. 250.]\n",
            " [250. 250. 250. ... 250. 250. 250.]\n",
            " [250. 250. 250. ... 250. 250. 250.]\n",
            " ...\n",
            " [  0.   0.   0. ... 250. 250. 250.]\n",
            " [250. 250. 250. ... 250. 250. 250.]\n",
            " [250. 250. 250. ... 250. 250. 250.]]\n"
          ]
        },
        {
          "output_type": "display_data",
          "data": {
            "text/plain": [
              "<PIL.Image.Image image mode=L size=128x32 at 0x7F0E1C14B4D0>"
            ],
            "image/png": "[encoded data removed]"
          },
          "metadata": {}
        },
        {
          "output_type": "stream",
          "name": "stdout",
          "text": [
            "[[1. 1. 1. ... 1. 1. 1.]\n",
            " [1. 1. 1. ... 1. 1. 1.]\n",
            " [1. 1. 1. ... 1. 1. 1.]\n",
            " ...\n",
            " [0. 0. 0. ... 1. 1. 1.]\n",
            " [1. 1. 1. ... 1. 1. 1.]\n",
            " [1. 1. 1. ... 1. 1. 1.]]\n"
          ]
        },
        {
          "output_type": "display_data",
          "data": {
            "text/plain": [
              "<PIL.Image.Image image mode=L size=128x32 at 0x7F0E1BBF2090>"
            ],
            "image/png": "[encoded data removed]"
          },
          "metadata": {}
        },
        {
          "output_type": "execute_result",
          "data": {
            "text/plain": [
              "<matplotlib.colorbar.Colorbar at 0x7f0e1bb5ddd0>"
            ]
          },
          "metadata": {},
          "execution_count": 9
        },
        {
          "output_type": "display_data",
          "data": {
            "text/plain": [
              "<Figure size 432x288 with 2 Axes>"
            ],
            "image/png": "[encoded data removed]"
          },
          "metadata": {
            "needs_background": "light"
          }
        }
      ]
    },
    {
      "cell_type": "code",
      "source": [
        "vn_df.dropna(inplace=True)"
      ],
      "metadata": {
        "id": "NyUAxSdSfNbt"
      },
      "execution_count": null,
      "outputs": []
    },
    {
      "cell_type": "code",
      "source": [
        "labels = []\n",
        "images = []\n",
        "\n",
        "for i in range(len(vn_df)):\n",
        "  label = vn_df.iloc[i][0].strip()\n",
        "  max_len_label = max(len(label), max_len_label)\n",
        "  labels.append(label)\n",
        "  img1 = np.array(vn_df.iloc[i][1].split(\" \"), dtype = float)\n",
        "  img1 = img1.reshape(128, 32)\n",
        "  img1 = img1.T/(-1*np.min(img1))+1    ## reverse-standardized and standardized again to suit the problem\n",
        "  img1 = np.expand_dims(img1, axis=2)\n",
        "  images.append(img1)\n",
        "\n",
        "print(np.asarray(images).shape, np.asarray(labels).shape)\n",
        "print(max_len_label)"
      ],
      "metadata": {
        "colab": {
          "base_uri": "https://localhost:8080/"
        },
        "id": "Ut7haXZUfeNU",
        "outputId": "344f51c1-07e3-4d2b-ddc7-c2f5065192f4"
      },
      "execution_count": null,
      "outputs": [
        {
          "output_type": "stream",
          "name": "stdout",
          "text": [
            "(110734, 32, 128, 1) (110734,)\n",
            "11\n"
          ]
        }
      ]
    },
    {
      "cell_type": "markdown",
      "source": [
        "## Train-Test Split"
      ],
      "metadata": {
        "id": "FrAenBbxWlQ3"
      }
    },
    {
      "cell_type": "code",
      "source": [
        "X_train, X_valid, y_train, y_valid = train_test_split(images, labels, train_size= 0.90, shuffle = True)\n",
        "print(len(X_train), len(y_train), len(X_valid), len(y_valid))\n",
        "X_train, X_test, y_train, y_test = train_test_split(X_train, y_train, train_size= 0.80, shuffle = True)\n",
        "\n",
        "images = []\n",
        "labels = []"
      ],
      "metadata": {
        "colab": {
          "base_uri": "https://localhost:8080/"
        },
        "id": "mod5FaV2WkFk",
        "outputId": "86c786e2-5d41-47fe-cac4-ec2607ff67ee"
      },
      "execution_count": null,
      "outputs": [
        {
          "output_type": "stream",
          "name": "stdout",
          "text": [
            "99660 99660 11074 11074\n"
          ]
        }
      ]
    },
    {
      "cell_type": "code",
      "source": [
        "y_valid_enc = []\n",
        "valid_input_len = []\n",
        "y_valid_len = []\n",
        "\n",
        "for value in y_valid:\n",
        "  y_valid_enc.append(encode_to_labels(value))\n",
        "  y_valid_len.append(len(value))\n",
        "  valid_input_len.append(31)\n",
        "\n",
        "print(y_valid[:5])"
      ],
      "metadata": {
        "colab": {
          "base_uri": "https://localhost:8080/"
        },
        "id": "mUUJJhw8t-_l",
        "outputId": "ea9e4b2e-69aa-4dea-89a9-d9090946692d"
      },
      "execution_count": null,
      "outputs": [
        {
          "output_type": "stream",
          "name": "stdout",
          "text": [
            "['kế', 'Quảng', 'lâu', 'nước', 'tư']\n"
          ]
        }
      ]
    },
    {
      "cell_type": "code",
      "source": [
        "y_train_enc = []\n",
        "train_input_len = []\n",
        "y_train_len = []\n",
        "\n",
        "for value in y_train:\n",
        "  y_train_enc.append(encode_to_labels(value))\n",
        "  y_train_len.append(len(value))\n",
        "  train_input_len.append(31)\n",
        "\n",
        "print(y_train[:5])"
      ],
      "metadata": {
        "colab": {
          "base_uri": "https://localhost:8080/"
        },
        "id": "MWgVjBwLvVA8",
        "outputId": "30f10a14-d394-4098-bac0-bc73b2855a05"
      },
      "execution_count": null,
      "outputs": [
        {
          "output_type": "stream",
          "name": "stdout",
          "text": [
            "['khả', 'phòng', 'một', 'nhờ', 'bí']\n"
          ]
        }
      ]
    },
    {
      "cell_type": "code",
      "source": [
        "# test_path = []\n",
        "# test_label = []\n",
        "# with open(\"/content/RWTH.iam_word_gt_final.test.thresh\") as test_list:\n",
        "#   for value in test_list:\n",
        "#     test_path.append(value.split(\",\")[0].strip()+\".png\")\n",
        "#     test_label.append(value.split(\" \",1)[1].strip())\n",
        "\n",
        "# # print(test_path)\n",
        "\n",
        "# max_len_label = max(max_len_label,len(max(test_label, key=len)))\n",
        "# # print(max_len_label)"
      ],
      "metadata": {
        "id": "_RH3gP5KvXHN"
      },
      "execution_count": null,
      "outputs": []
    },
    {
      "cell_type": "markdown",
      "source": [
        "## Padding the input sequences"
      ],
      "metadata": {
        "id": "tpEWy0QlM5E9"
      }
    },
    {
      "cell_type": "code",
      "source": [
        "y_train_padded = pad_sequences(y_train_enc, maxlen=max_len_label, padding='post', value = len(char_encoding))\n",
        "y_valid_padded = pad_sequences(y_valid_enc, maxlen=max_len_label, padding='post', value = len(char_encoding))"
      ],
      "metadata": {
        "id": "w9zWRgXd379N"
      },
      "execution_count": 12,
      "outputs": []
    },
    {
      "cell_type": "code",
      "source": [
        "cv2_imshow(X_train[0]*255)\n",
        "print(y_train[0])\n",
        "\n",
        "cv2_imshow(X_valid[0]*255)\n",
        "print(y_valid[0])\n",
        "\n",
        "cv2_imshow(X_test[5]*255)\n",
        "print(y_test[5])"
      ],
      "metadata": {
        "colab": {
          "base_uri": "https://localhost:8080/",
          "height": 165
        },
        "id": "IqpD1JJyvZar",
        "outputId": "bc0fc08c-1ea7-4414-f9c0-7103deadeb1c"
      },
      "execution_count": 13,
      "outputs": [
        {
          "output_type": "display_data",
          "data": {
            "text/plain": [
              "<PIL.Image.Image image mode=RGB size=128x32 at 0x7F6586FEB6D0>"
            ],
            "image/png": "[encoded data removed]"
          },
          "metadata": {}
        },
        {
          "output_type": "stream",
          "name": "stdout",
          "text": [
            "bình\n"
          ]
        },
        {
          "output_type": "display_data",
          "data": {
            "text/plain": [
              "<PIL.Image.Image image mode=RGB size=128x32 at 0x7F6586509090>"
            ],
            "image/png": "[encoded data removed]"
          },
          "metadata": {}
        },
        {
          "output_type": "stream",
          "name": "stdout",
          "text": [
            "Bình\n"
          ]
        },
        {
          "output_type": "display_data",
          "data": {
            "text/plain": [
              "<PIL.Image.Image image mode=RGB size=128x32 at 0x7F65865090D0>"
            ],
            "image/png": "[encoded data removed]"
          },
          "metadata": {}
        },
        {
          "output_type": "stream",
          "name": "stdout",
          "text": [
            "thương\n"
          ]
        }
      ]
    },
    {
      "cell_type": "markdown",
      "source": [
        "## Network Architecture\n",
        "\n",
        "Based on [this](https://arxiv.org/pdf/1507.05717.pdf) paper and [this](https://theailearner.com/2019/05/29/creating-a-crnn-model-to-recognize-text-in-an-image-part-1/) blog."
      ],
      "metadata": {
        "id": "uWdR3eZe51eJ"
      }
    },
    {
      "cell_type": "code",
      "source": [
        "# input with shape of height=32 and width=128 \n",
        "inputs = Input(shape=(32,128,1))\n",
        " \n",
        "# convolution layer with kernel size (3,3)\n",
        "conv_1 = Conv2D(64, (3,3), activation = 'relu', padding='same')(inputs)\n",
        "# poolig layer with kernel size (2,2)\n",
        "pool_1 = MaxPool2D(pool_size=(2, 2), strides=2)(conv_1)\n",
        " \n",
        "conv_2 = Conv2D(128, (3,3), activation = 'relu', padding='same')(pool_1)\n",
        "pool_2 = MaxPool2D(pool_size=(2, 2), strides=2)(conv_2)\n",
        " \n",
        "conv_3 = Conv2D(256, (3,3), activation = 'relu', padding='same')(pool_2)\n",
        " \n",
        "conv_4 = Conv2D(256, (3,3), activation = 'relu', padding='same')(conv_3)\n",
        "# poolig layer with kernel size (2,1)\n",
        "pool_4 = MaxPool2D(pool_size=(2, 1))(conv_4)\n",
        " \n",
        "conv_5 = Conv2D(512, (3,3), activation = 'relu', padding='same')(pool_4)\n",
        "# Batch normalization layer\n",
        "batch_norm_5 = BatchNormalization()(conv_5)\n",
        " \n",
        "conv_6 = Conv2D(512, (3,3), activation = 'relu', padding='same')(batch_norm_5)\n",
        "batch_norm_6 = BatchNormalization()(conv_6)\n",
        "pool_6 = MaxPool2D(pool_size=(2, 1))(batch_norm_6)\n",
        " \n",
        "conv_7 = Conv2D(512, (2,2), activation = 'relu')(pool_6)\n",
        " \n",
        "squeezed = Lambda(lambda x: K.squeeze(x, 1))(conv_7)\n",
        " \n",
        "# bidirectional LSTM layers with units=256\n",
        "blstm_1 = Bidirectional(LSTM(256, return_sequences=True, dropout = 0.3))(squeezed)\n",
        "blstm_2 = Bidirectional(LSTM(256, return_sequences=True, dropout = 0.3))(blstm_1)\n",
        " \n",
        "outputs = Dense(len(char_encoding)+1, activation = 'softmax')(blstm_2)\n",
        "\n",
        "# model to be used at test time\n",
        "act_model = Model(inputs, outputs)"
      ],
      "metadata": {
        "id": "gKnkuliekHbm"
      },
      "execution_count": 14,
      "outputs": []
    },
    {
      "cell_type": "code",
      "source": [
        "act_model.summary()"
      ],
      "metadata": {
        "id": "uG0cubQcgb7G",
        "colab": {
          "base_uri": "https://localhost:8080/"
        },
        "outputId": "055a9078-754a-4fc8-a70c-aaa6e3661cfc"
      },
      "execution_count": 15,
      "outputs": [
        {
          "output_type": "stream",
          "name": "stdout",
          "text": [
            "Model: \"model\"\n",
            "_________________________________________________________________\n",
            " Layer (type)                Output Shape              Param #   \n",
            "=================================================================\n",
            " input_1 (InputLayer)        [(None, 32, 128, 1)]      0         \n",
            "                                                                 \n",
            " conv2d (Conv2D)             (None, 32, 128, 64)       640       \n",
            "                                                                 \n",
            " max_pooling2d (MaxPooling2D  (None, 16, 64, 64)       0         \n",
            " )                                                               \n",
            "                                                                 \n",
            " conv2d_1 (Conv2D)           (None, 16, 64, 128)       73856     \n",
            "                                                                 \n",
            " max_pooling2d_1 (MaxPooling  (None, 8, 32, 128)       0         \n",
            " 2D)                                                             \n",
            "                                                                 \n",
            " conv2d_2 (Conv2D)           (None, 8, 32, 256)        295168    \n",
            "                                                                 \n",
            " conv2d_3 (Conv2D)           (None, 8, 32, 256)        590080    \n",
            "                                                                 \n",
            " max_pooling2d_2 (MaxPooling  (None, 4, 32, 256)       0         \n",
            " 2D)                                                             \n",
            "                                                                 \n",
            " conv2d_4 (Conv2D)           (None, 4, 32, 512)        1180160   \n",
            "                                                                 \n",
            " batch_normalization (BatchN  (None, 4, 32, 512)       2048      \n",
            " ormalization)                                                   \n",
            "                                                                 \n",
            " conv2d_5 (Conv2D)           (None, 4, 32, 512)        2359808   \n",
            "                                                                 \n",
            " batch_normalization_1 (Batc  (None, 4, 32, 512)       2048      \n",
            " hNormalization)                                                 \n",
            "                                                                 \n",
            " max_pooling2d_3 (MaxPooling  (None, 2, 32, 512)       0         \n",
            " 2D)                                                             \n",
            "                                                                 \n",
            " conv2d_6 (Conv2D)           (None, 1, 31, 512)        1049088   \n",
            "                                                                 \n",
            " lambda (Lambda)             (None, 31, 512)           0         \n",
            "                                                                 \n",
            " bidirectional (Bidirectiona  (None, 31, 512)          1574912   \n",
            " l)                                                              \n",
            "                                                                 \n",
            " bidirectional_1 (Bidirectio  (None, 31, 512)          1574912   \n",
            " nal)                                                            \n",
            "                                                                 \n",
            " dense (Dense)               (None, 31, 148)           75924     \n",
            "                                                                 \n",
            "=================================================================\n",
            "Total params: 8,778,644\n",
            "Trainable params: 8,776,596\n",
            "Non-trainable params: 2,048\n",
            "_________________________________________________________________\n"
          ]
        }
      ]
    },
    {
      "cell_type": "markdown",
      "source": [
        "## CTC Loss function"
      ],
      "metadata": {
        "id": "aah-qIWN0AP0"
      }
    },
    {
      "cell_type": "code",
      "source": [
        "labels = Input(name='the_labels', shape=[max_len_label], dtype='float32')\n",
        "input_length = Input(name='input_length', shape=[1], dtype='int64')\n",
        "label_length = Input(name='label_length', shape=[1], dtype='int64')\n",
        "\n",
        "def ctc_lambda_func(args):\n",
        "    y_pred, labels, input_length, label_length = args\n",
        " \n",
        "    return K.ctc_batch_cost(labels, y_pred, input_length, label_length)\n",
        "\n",
        "loss_out = Lambda(ctc_lambda_func, output_shape=(1,), name='ctc')([outputs, labels, input_length, label_length])\n",
        "\n",
        "#model to be used at training time\n",
        "model = Model(inputs=[inputs, labels, input_length, label_length], outputs=loss_out)"
      ],
      "metadata": {
        "id": "Sxm3Z40EM9qE"
      },
      "execution_count": 16,
      "outputs": []
    },
    {
      "cell_type": "markdown",
      "source": [
        "## Training and Validation"
      ],
      "metadata": {
        "id": "58ijorYB0E3Z"
      }
    },
    {
      "cell_type": "code",
      "source": [
        "model.compile(loss={'ctc': lambda y_true, y_pred: y_pred}, optimizer = 'adam')\n",
        " \n",
        "# filepath=\"best_model.hdf5\"\n",
        "filepath = \"/content/drive/MyDrive/Kaggle/vn_best_model_binarized_256.hdf5\"\n",
        "checkpoint = ModelCheckpoint(filepath=filepath, monitor='val_loss', verbose=1, save_best_only=True, mode='auto')\n",
        "callbacks_list = [checkpoint]"
      ],
      "metadata": {
        "id": "q3sFjkN_Oaq9"
      },
      "execution_count": 17,
      "outputs": []
    },
    {
      "cell_type": "code",
      "source": [
        "X_train = np.array(X_train)\n",
        "train_input_len = np.array(train_input_len)\n",
        "y_train_len = np.array(y_train_len)\n",
        "\n",
        "X_valid = np.array(X_valid)\n",
        "valid_input_len = np.array(valid_input_len)\n",
        "y_valid_len = np.array(y_valid_len)"
      ],
      "metadata": {
        "id": "a4FUS9W5ObeY"
      },
      "execution_count": 18,
      "outputs": []
    },
    {
      "cell_type": "code",
      "source": [
        "X_test = np.array(X_test)"
      ],
      "metadata": {
        "id": "zN2f9BrFawoQ"
      },
      "execution_count": 19,
      "outputs": []
    },
    {
      "cell_type": "code",
      "source": [
        "def train_initial(model,_epochs=10, _batch_size=64):\n",
        "  model.fit(x=[X_train, y_train_padded, train_input_len, y_train_len], y=np.zeros(len(train_input_len)), batch_size=_batch_size, epochs = _epochs, validation_data = ([X_valid, y_valid_padded, valid_input_len, y_valid_len], [np.zeros(len(valid_input_len))]), verbose = 1, callbacks = callbacks_list)\n",
        "\n",
        "def continue_training(model):\n",
        "  model.load_weights(\"/content/drive/MyDrive/Kaggle/vn_best_model_binarized_256.hdf5\")\n",
        "  train_initial(model)\n",
        "\n",
        "def transfer_learning(model,epochs=10, batch_size=64):\n",
        "  model.load_weights(\"/content/drive/MyDrive/IAM_dataset/best_model_binarized_256.hdf5\", by_name=True, skip_mismatch=True)\n",
        "  train_initial(model, _epochs=epochs, _batch_size=batch_size)"
      ],
      "metadata": {
        "id": "z77bdpStOdOp"
      },
      "execution_count": 20,
      "outputs": []
    },
    {
      "cell_type": "code",
      "source": [
        "# transfer_learning(model, epochs=20, batch_size=64)\n",
        "train_initial(model, _epochs=20, _batch_size=64)"
      ],
      "metadata": {
        "colab": {
          "base_uri": "https://localhost:8080/"
        },
        "id": "BsFE3ua2kHdU",
        "outputId": "2a833d95-09ee-4ee0-a522-c5bc38c02ab0"
      },
      "execution_count": 21,
      "outputs": [
        {
          "output_type": "stream",
          "name": "stdout",
          "text": [
            "Epoch 1/20\n",
            "1047/1047 [==============================] - ETA: 0s - loss: 9.0431\n",
            "Epoch 1: val_loss improved from inf to 6.08600, saving model to /content/drive/MyDrive/Kaggle/vn_best_model_binarized_256.hdf5\n",
            "1047/1047 [==============================] - 135s 109ms/step - loss: 9.0431 - val_loss: 6.0860\n",
            "Epoch 2/20\n",
            "1047/1047 [==============================] - ETA: 0s - loss: 3.5078\n",
            "Epoch 2: val_loss improved from 6.08600 to 2.96046, saving model to /content/drive/MyDrive/Kaggle/vn_best_model_binarized_256.hdf5\n",
            "1047/1047 [==============================] - 111s 106ms/step - loss: 3.5078 - val_loss: 2.9605\n",
            "Epoch 3/20\n",
            "1047/1047 [==============================] - ETA: 0s - loss: 2.2017\n",
            "Epoch 3: val_loss improved from 2.96046 to 2.44114, saving model to /content/drive/MyDrive/Kaggle/vn_best_model_binarized_256.hdf5\n",
            "1047/1047 [==============================] - 111s 106ms/step - loss: 2.2017 - val_loss: 2.4411\n",
            "Epoch 4/20\n",
            "1047/1047 [==============================] - ETA: 0s - loss: 1.7106\n",
            "Epoch 4: val_loss improved from 2.44114 to 1.85928, saving model to /content/drive/MyDrive/Kaggle/vn_best_model_binarized_256.hdf5\n",
            "1047/1047 [==============================] - 109s 104ms/step - loss: 1.7106 - val_loss: 1.8593\n",
            "Epoch 5/20\n",
            "1047/1047 [==============================] - ETA: 0s - loss: 1.4483\n",
            "Epoch 5: val_loss improved from 1.85928 to 1.80678, saving model to /content/drive/MyDrive/Kaggle/vn_best_model_binarized_256.hdf5\n",
            "1047/1047 [==============================] - 109s 104ms/step - loss: 1.4483 - val_loss: 1.8068\n",
            "Epoch 6/20\n",
            "1047/1047 [==============================] - ETA: 0s - loss: 1.2999\n",
            "Epoch 6: val_loss improved from 1.80678 to 1.55344, saving model to /content/drive/MyDrive/Kaggle/vn_best_model_binarized_256.hdf5\n",
            "1047/1047 [==============================] - 108s 103ms/step - loss: 1.2999 - val_loss: 1.5534\n",
            "Epoch 7/20\n",
            "1047/1047 [==============================] - ETA: 0s - loss: 1.1605\n",
            "Epoch 7: val_loss improved from 1.55344 to 1.42129, saving model to /content/drive/MyDrive/Kaggle/vn_best_model_binarized_256.hdf5\n",
            "1047/1047 [==============================] - 109s 104ms/step - loss: 1.1605 - val_loss: 1.4213\n",
            "Epoch 8/20\n",
            "1047/1047 [==============================] - ETA: 0s - loss: 1.0819\n",
            "Epoch 8: val_loss did not improve from 1.42129\n",
            "1047/1047 [==============================] - 105s 101ms/step - loss: 1.0819 - val_loss: 1.5568\n",
            "Epoch 9/20\n",
            "1047/1047 [==============================] - ETA: 0s - loss: 1.0186\n",
            "Epoch 9: val_loss improved from 1.42129 to 1.34798, saving model to /content/drive/MyDrive/Kaggle/vn_best_model_binarized_256.hdf5\n",
            "1047/1047 [==============================] - 108s 103ms/step - loss: 1.0186 - val_loss: 1.3480\n",
            "Epoch 10/20\n",
            "1047/1047 [==============================] - ETA: 0s - loss: 0.9483\n",
            "Epoch 10: val_loss did not improve from 1.34798\n",
            "1047/1047 [==============================] - 104s 100ms/step - loss: 0.9483 - val_loss: 1.5642\n",
            "Epoch 11/20\n",
            "1047/1047 [==============================] - ETA: 0s - loss: 0.8992\n",
            "Epoch 11: val_loss improved from 1.34798 to 1.30066, saving model to /content/drive/MyDrive/Kaggle/vn_best_model_binarized_256.hdf5\n",
            "1047/1047 [==============================] - 107s 102ms/step - loss: 0.8992 - val_loss: 1.3007\n",
            "Epoch 12/20\n",
            "1047/1047 [==============================] - ETA: 0s - loss: 0.8633\n",
            "Epoch 12: val_loss improved from 1.30066 to 1.22389, saving model to /content/drive/MyDrive/Kaggle/vn_best_model_binarized_256.hdf5\n",
            "1047/1047 [==============================] - 107s 102ms/step - loss: 0.8633 - val_loss: 1.2239\n",
            "Epoch 13/20\n",
            "1047/1047 [==============================] - ETA: 0s - loss: 0.8326\n",
            "Epoch 13: val_loss improved from 1.22389 to 1.21871, saving model to /content/drive/MyDrive/Kaggle/vn_best_model_binarized_256.hdf5\n",
            "1047/1047 [==============================] - 107s 102ms/step - loss: 0.8326 - val_loss: 1.2187\n",
            "Epoch 14/20\n",
            "1047/1047 [==============================] - ETA: 0s - loss: 0.7987\n",
            "Epoch 14: val_loss did not improve from 1.21871\n",
            "1047/1047 [==============================] - 105s 100ms/step - loss: 0.7987 - val_loss: 1.2611\n",
            "Epoch 15/20\n",
            "1047/1047 [==============================] - ETA: 0s - loss: 0.7533\n",
            "Epoch 15: val_loss did not improve from 1.21871\n",
            "1047/1047 [==============================] - 105s 100ms/step - loss: 0.7533 - val_loss: 1.3182\n",
            "Epoch 16/20\n",
            "1047/1047 [==============================] - ETA: 0s - loss: 0.7315\n",
            "Epoch 16: val_loss did not improve from 1.21871\n",
            "1047/1047 [==============================] - 104s 99ms/step - loss: 0.7315 - val_loss: 1.2242\n",
            "Epoch 17/20\n",
            "1047/1047 [==============================] - ETA: 0s - loss: 0.7172\n",
            "Epoch 17: val_loss improved from 1.21871 to 1.10204, saving model to /content/drive/MyDrive/Kaggle/vn_best_model_binarized_256.hdf5\n",
            "1047/1047 [==============================] - 105s 100ms/step - loss: 0.7172 - val_loss: 1.1020\n",
            "Epoch 18/20\n",
            "1047/1047 [==============================] - ETA: 0s - loss: 0.7033\n",
            "Epoch 18: val_loss did not improve from 1.10204\n",
            "1047/1047 [==============================] - 103s 99ms/step - loss: 0.7033 - val_loss: 1.1527\n",
            "Epoch 19/20\n",
            "1047/1047 [==============================] - ETA: 0s - loss: 0.6551\n",
            "Epoch 19: val_loss did not improve from 1.10204\n",
            "1047/1047 [==============================] - 106s 101ms/step - loss: 0.6551 - val_loss: 1.1605\n",
            "Epoch 20/20\n",
            "1047/1047 [==============================] - ETA: 0s - loss: 0.6619\n",
            "Epoch 20: val_loss did not improve from 1.10204\n",
            "1047/1047 [==============================] - 109s 104ms/step - loss: 0.6619 - val_loss: 1.2423\n"
          ]
        }
      ]
    },
    {
      "cell_type": "code",
      "source": [
        "!nvidia-smi"
      ],
      "metadata": {
        "id": "NgDcSxTkvVQD"
      },
      "execution_count": null,
      "outputs": []
    },
    {
      "cell_type": "code",
      "source": [
        "!ps -aux|grep python"
      ],
      "metadata": {
        "id": "fORfLt7Pvkzn"
      },
      "execution_count": null,
      "outputs": []
    },
    {
      "cell_type": "code",
      "source": [
        "## reducing RAM (colab issues)\n",
        "\n",
        "X_train = []\n",
        "y_train = []\n",
        "X_valid = []\n",
        "y_valid = []"
      ],
      "metadata": {
        "id": "BJA6I-rqU1Nv"
      },
      "execution_count": 22,
      "outputs": []
    },
    {
      "cell_type": "markdown",
      "source": [
        "## Testing"
      ],
      "metadata": {
        "id": "F6OaGzJw0Lzf"
      }
    },
    {
      "cell_type": "code",
      "source": [
        "act_model.load_weights(\"/content/drive/MyDrive/Kaggle/vn_best_model_binarized_256.hdf5\")\n",
        "\n",
        "prediction = act_model.predict(X_test)\n",
        "\n",
        "out = K.get_value(K.ctc_decode(prediction, input_length=np.ones(prediction.shape[0])*prediction.shape[1],greedy=True)[0][0])\n",
        "\n",
        "predicted_labels = [\"\".join([char_encoding[x] for x in img if x != -1]) for img in out]\n",
        "# print([\"\".join([char_encoding[x] for x in img if x != -1]) for img in out])\n",
        "# print(predicted_labels[:10])"
      ],
      "metadata": {
        "id": "Gy7CiKAVOkHb"
      },
      "execution_count": 24,
      "outputs": []
    },
    {
      "cell_type": "code",
      "source": [
        "for i in range(10):\n",
        "  cv2_imshow(X_test[i]*255)\n",
        "  print(y_test[i])\n",
        "  print(predicted_labels[i])"
      ],
      "metadata": {
        "colab": {
          "base_uri": "https://localhost:8080/",
          "height": 684
        },
        "id": "Twv1NTikvj5N",
        "outputId": "bee7b514-9a84-4554-900a-21647637d4e6"
      },
      "execution_count": 25,
      "outputs": [
        {
          "output_type": "display_data",
          "data": {
            "text/plain": [
              "<PIL.Image.Image image mode=RGB size=128x32 at 0x7F6583FCE5D0>"
            ],
            "image/png": "[encoded data removed]"
          },
          "metadata": {}
        },
        {
          "output_type": "stream",
          "name": "stdout",
          "text": [
            "người\n",
            "người\n"
          ]
        },
        {
          "output_type": "display_data",
          "data": {
            "text/plain": [
              "<PIL.Image.Image image mode=RGB size=128x32 at 0x7F6584241E10>"
            ],
            "image/png": "[encoded data removed]"
          },
          "metadata": {}
        },
        {
          "output_type": "stream",
          "name": "stdout",
          "text": [
            "làm\n",
            "làm\n"
          ]
        },
        {
          "output_type": "display_data",
          "data": {
            "text/plain": [
              "<PIL.Image.Image image mode=RGB size=128x32 at 0x7F65840AB610>"
            ],
            "image/png": "[encoded data removed]"
          },
          "metadata": {}
        },
        {
          "output_type": "stream",
          "name": "stdout",
          "text": [
            "triệu\n",
            "triệu\n"
          ]
        },
        {
          "output_type": "display_data",
          "data": {
            "text/plain": [
              "<PIL.Image.Image image mode=RGB size=128x32 at 0x7F65840AB690>"
            ],
            "image/png": "[encoded data removed]"
          },
          "metadata": {}
        },
        {
          "output_type": "stream",
          "name": "stdout",
          "text": [
            "lo\n",
            "lo\n"
          ]
        },
        {
          "output_type": "display_data",
          "data": {
            "text/plain": [
              "<PIL.Image.Image image mode=RGB size=128x32 at 0x7F65840AB490>"
            ],
            "image/png": "[encoded data removed]"
          },
          "metadata": {}
        },
        {
          "output_type": "stream",
          "name": "stdout",
          "text": [
            "để\n",
            "để\n"
          ]
        },
        {
          "output_type": "display_data",
          "data": {
            "text/plain": [
              "<PIL.Image.Image image mode=RGB size=128x32 at 0x7F65840AB450>"
            ],
            "image/png": "[encoded data removed]"
          },
          "metadata": {}
        },
        {
          "output_type": "stream",
          "name": "stdout",
          "text": [
            "thương\n",
            "thương\n"
          ]
        },
        {
          "output_type": "display_data",
          "data": {
            "text/plain": [
              "<PIL.Image.Image image mode=RGB size=128x32 at 0x7F65840AB890>"
            ],
            "image/png": "[encoded data removed]"
          },
          "metadata": {}
        },
        {
          "output_type": "stream",
          "name": "stdout",
          "text": [
            "một\n",
            "một\n"
          ]
        },
        {
          "output_type": "display_data",
          "data": {
            "text/plain": [
              "<PIL.Image.Image image mode=RGB size=128x32 at 0x7F65840AB8D0>"
            ],
            "image/png": "[encoded data removed]"
          },
          "metadata": {}
        },
        {
          "output_type": "stream",
          "name": "stdout",
          "text": [
            "họ\n",
            "họ\n"
          ]
        },
        {
          "output_type": "display_data",
          "data": {
            "text/plain": [
              "<PIL.Image.Image image mode=RGB size=128x32 at 0x7F65840AB810>"
            ],
            "image/png": "[encoded data removed]"
          },
          "metadata": {}
        },
        {
          "output_type": "stream",
          "name": "stdout",
          "text": [
            "Năm\n",
            "Năm\n"
          ]
        },
        {
          "output_type": "display_data",
          "data": {
            "text/plain": [
              "<PIL.Image.Image image mode=RGB size=128x32 at 0x7F65840AB950>"
            ],
            "image/png": "[encoded data removed]"
          },
          "metadata": {}
        },
        {
          "output_type": "stream",
          "name": "stdout",
          "text": [
            "xã\n",
            "xã\n"
          ]
        }
      ]
    },
    {
      "cell_type": "markdown",
      "source": [
        "## Calculate Accuracy and CER"
      ],
      "metadata": {
        "id": "ZKWhTCjXeqIz"
      }
    },
    {
      "cell_type": "code",
      "source": [
        "!pip install python-Levenshtein"
      ],
      "metadata": {
        "colab": {
          "base_uri": "https://localhost:8080/"
        },
        "id": "rsf04SbXu_Md",
        "outputId": "76356c14-8c21-44c4-9126-24b782cf4aa4"
      },
      "execution_count": 26,
      "outputs": [
        {
          "output_type": "stream",
          "name": "stdout",
          "text": [
            "Looking in indexes: https://pypi.org/simple, https://us-python.pkg.dev/colab-wheels/public/simple/\n",
            "Collecting python-Levenshtein\n",
            "  Downloading python-Levenshtein-0.12.2.tar.gz (50 kB)\n",
            "\u001b[K     |████████████████████████████████| 50 kB 6.9 MB/s \n",
            "\u001b[?25hRequirement already satisfied: setuptools in /usr/local/lib/python3.7/dist-packages (from python-Levenshtein) (57.4.0)\n",
            "Building wheels for collected packages: python-Levenshtein\n",
            "  Building wheel for python-Levenshtein (setup.py) ... \u001b[?25l\u001b[?25hdone\n",
            "  Created wheel for python-Levenshtein: filename=python_Levenshtein-0.12.2-cp37-cp37m-linux_x86_64.whl size=149856 sha256=d2393be0b5a9daf2c4ae512282ec2b03f712f892feea94ed1f1478364a9f2c60\n",
            "  Stored in directory: /root/.cache/pip/wheels/05/5f/ca/7c4367734892581bb5ff896f15027a932c551080b2abd3e00d\n",
            "Successfully built python-Levenshtein\n",
            "Installing collected packages: python-Levenshtein\n",
            "Successfully installed python-Levenshtein-0.12.2\n"
          ]
        }
      ]
    },
    {
      "cell_type": "code",
      "source": [
        "# cer = fastwer.score(test_label, predicted_labels , char_level=True)\n",
        "\n",
        "from Levenshtein import distance\n",
        "\n",
        "cer_each = []\n",
        "\n",
        "# edit_distances_N = [distance(test_label[i], predicted_labels[i])/len(test_label[i]) for i in range(len(test_label))]    ## Need to calculate CER better.. edit_distance/(edit_distance+correct)\n",
        "for i in range(len(y_test)):\n",
        "  edit_dist = distance(y_test[i], predicted_labels[i])\n",
        "  cer_each.append(edit_dist/(edit_dist+max(0,len(y_test[i])-edit_dist)))\n",
        "\n",
        "# edit_distances_N = [distance(test_label[i], predicted_labels[i])/(distance(test_label[i], predicted_labels[i])+max(0,len(test_label[i])-distance(test_label[i], predicted_labels[i]))) for i in range(len(test_label))]\n",
        "avg_cer = np.sum(cer_each)/len(cer_each)\n",
        "print(\"Average CER:\", avg_cer)\n",
        "\n",
        "accuracy = np.sum(np.asarray(y_test) == np.asarray(predicted_labels))/len(y_test)\n",
        "# print(np.sum(np.asarray(y_test) == np.asarray(predicted_labels)))\n",
        "print(\"Accuracy: \", accuracy)#np.sum(np.asarray(y_test) == np.asarray(predicted_labels))/len(y_test))"
      ],
      "metadata": {
        "colab": {
          "base_uri": "https://localhost:8080/"
        },
        "id": "2Aqb5hD-hiSq",
        "outputId": "91ff8a9a-7c6e-4adb-e881-9196ceb9b86b"
      },
      "execution_count": 27,
      "outputs": [
        {
          "output_type": "stream",
          "name": "stdout",
          "text": [
            "Average CER: 0.08919250811347168\n",
            "Accuracy:  0.7904439577941469\n"
          ]
        }
      ]
    }
  ]
}